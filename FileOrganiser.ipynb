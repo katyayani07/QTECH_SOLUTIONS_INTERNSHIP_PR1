{
 "cells": [
  {
   "cell_type": "code",
   "execution_count": 3,
   "id": "00f1a8ff-eb02-49ba-a48f-6f826ab67835",
   "metadata": {},
   "outputs": [
    {
     "name": "stdout",
     "output_type": "stream",
     "text": [
      "Requirement already satisfied: flask in c:\\users\\vscpl\\appdata\\local\\programs\\python\\python312\\lib\\site-packages (3.0.3)\n",
      "Requirement already satisfied: Werkzeug>=3.0.0 in c:\\users\\vscpl\\appdata\\local\\programs\\python\\python312\\lib\\site-packages (from flask) (3.0.5)\n",
      "Requirement already satisfied: Jinja2>=3.1.2 in c:\\users\\vscpl\\appdata\\local\\programs\\python\\python312\\lib\\site-packages (from flask) (3.1.4)\n",
      "Requirement already satisfied: itsdangerous>=2.1.2 in c:\\users\\vscpl\\appdata\\local\\programs\\python\\python312\\lib\\site-packages (from flask) (2.2.0)\n",
      "Requirement already satisfied: click>=8.1.3 in c:\\users\\vscpl\\appdata\\local\\programs\\python\\python312\\lib\\site-packages (from flask) (8.1.7)\n",
      "Requirement already satisfied: blinker>=1.6.2 in c:\\users\\vscpl\\appdata\\local\\programs\\python\\python312\\lib\\site-packages (from flask) (1.8.2)\n",
      "Requirement already satisfied: colorama in c:\\users\\vscpl\\appdata\\local\\programs\\python\\python312\\lib\\site-packages (from click>=8.1.3->flask) (0.4.6)\n",
      "Requirement already satisfied: MarkupSafe>=2.0 in c:\\users\\vscpl\\appdata\\local\\programs\\python\\python312\\lib\\site-packages (from Jinja2>=3.1.2->flask) (2.1.5)\n"
     ]
    },
    {
     "name": "stderr",
     "output_type": "stream",
     "text": [
      "\n",
      "[notice] A new release of pip is available: 24.0 -> 24.2\n",
      "[notice] To update, run: python.exe -m pip install --upgrade pip\n"
     ]
    }
   ],
   "source": [
    "!pip install flask"
   ]
  },
  {
   "cell_type": "code",
   "execution_count": 4,
   "id": "b9c1e936-55ac-4da5-b3c1-53f5e34629b0",
   "metadata": {},
   "outputs": [
    {
     "name": "stdout",
     "output_type": "stream",
     "text": [
      "Requirement already satisfied: opencv-python in c:\\users\\vscpl\\appdata\\local\\programs\\python\\python312\\lib\\site-packages (4.10.0.84)"
     ]
    },
    {
     "name": "stderr",
     "output_type": "stream",
     "text": [
      "\n",
      "[notice] A new release of pip is available: 24.0 -> 24.2\n",
      "[notice] To update, run: python.exe -m pip install --upgrade pip\n"
     ]
    },
    {
     "name": "stdout",
     "output_type": "stream",
     "text": [
      "\n",
      "Requirement already satisfied: numpy>=1.21.2 in c:\\users\\vscpl\\appdata\\local\\programs\\python\\python312\\lib\\site-packages (from opencv-python) (2.0.1)\n"
     ]
    }
   ],
   "source": [
    "!pip install opencv-python\n"
   ]
  },
  {
   "cell_type": "code",
   "execution_count": 5,
   "id": "24673cba-8d17-495c-820d-d0909fb35432",
   "metadata": {},
   "outputs": [],
   "source": [
    "from flask import Flask, request, render_template, redirect, url_for\n",
    "import os\n",
    "import shutil\n",
    "import cv2\n"
   ]
  },
  {
   "cell_type": "code",
   "execution_count": 7,
   "id": "fa887020-6ff6-4b83-ae6c-b8d19b3753fb",
   "metadata": {},
   "outputs": [],
   "source": [
    "# Define directory categories and their target folders\n",
    "file_categories = {\n",
    "    'Images': ['.jpg', '.jpeg', '.png', '.gif', '.bmp', '.tiff'],\n",
    "    'Videos': ['.mp4', '.mkv', '.flv', '.avi', '.mov'],\n",
    "    'Documents': ['.pdf', '.docx', '.xlsx', '.pptx', '.txt'],\n",
    "    'Audio': ['.mp3', '.wav', '.aac', '.ogg'],\n",
    "    'Archives': ['.zip', '.rar', '.7z', '.tar', '.gz'],\n",
    "    'Others': []  # Files with unrecognized extensions\n",
    "}\n",
    "\n",
    "# Base directory for organizing files (can be modified)\n",
    "base_directory = './uploads'  # Ensure this folder exists in the working directory\n",
    "organized_directory = './organized'  # Organized files will be moved here\n"
   ]
  },
  {
   "cell_type": "code",
   "execution_count": 11,
   "id": "d7ccf49f-ae97-4460-9e73-7e7b2b6471ea",
   "metadata": {},
   "outputs": [],
   "source": [
    "def organize_files():\n",
    "    # Ensure the organized directory exists\n",
    "    os.makedirs(organized_directory, exist_ok=True)\n",
    "\n",
    "    # Iterate through files in base_directory\n",
    "    for file_name in os.listdir(base_directory):\n",
    "        file_path = os.path.join(base_directory, file_name)\n",
    "\n",
    "        # Skip if it's a directory\n",
    "        if os.path.isdir(file_path):\n",
    "            continue\n",
    "\n",
    "        # Determine file extension\n",
    "        _, ext = os.path.splitext(file_name)\n",
    "        ext = ext.lower()\n",
    "\n",
    "        # Find the category for the file type\n",
    "        category = 'Others'\n",
    "        for cat, extensions in file_categories.items():\n",
    "            if ext in extensions:\n",
    "                category = cat\n",
    "                break\n",
    "\n",
    "        # Create category folder if it doesn't exist\n",
    "        category_folder = os.path.join(organized_directory, category)\n",
    "        os.makedirs(category_folder, exist_ok=True)\n",
    "\n",
    "        # Move file to the appropriate category folder\n",
    "        shutil.move(file_path, os.path.join(category_folder, file_name))\n",
    "\n",
    "    print(\"Files have been organized.\")\n"
   ]
  },
  {
   "cell_type": "code",
   "execution_count": 13,
   "id": "08e06c4a-649b-4252-ad73-c6b28085f94c",
   "metadata": {},
   "outputs": [],
   "source": [
    "app = Flask(__name__)\n",
    "\n",
    "@app.route('/')\n",
    "def index():\n",
    "    return '''\n",
    "    <h1>File Organizer</h1>\n",
    "    <form action=\"/upload\" method=\"post\" enctype=\"multipart/form-data\">\n",
    "        <input type=\"file\" name=\"file\" multiple>\n",
    "        <input type=\"submit\" value=\"Upload and Organize\">\n",
    "    </form>\n",
    "    '''\n",
    "\n",
    "@app.route('/upload', methods=['POST'])\n",
    "def upload_file():\n",
    "    files = request.files.getlist(\"file\")\n",
    "    os.makedirs(base_directory, exist_ok=True)\n",
    "\n",
    "    # Save each uploaded file to the base directory\n",
    "    for file in files:\n",
    "        file.save(os.path.join(base_directory, file.filename))\n",
    "\n",
    "    # Organize the files\n",
    "    organize_files()\n",
    "\n",
    "    return \"Files uploaded and organized successfully.\"\n"
   ]
  },
  {
   "cell_type": "code",
   "execution_count": null,
   "id": "c45e81ab-bb0c-42e5-b228-ac4f5c26a89f",
   "metadata": {},
   "outputs": [
    {
     "name": "stderr",
     "output_type": "stream",
     "text": [
      "WARNING: This is a development server. Do not use it in a production deployment. Use a production WSGI server instead.\n",
      " * Running on http://localhost:5000\n",
      "Press CTRL+C to quit\n",
      "127.0.0.1 - - [25/Oct/2024 20:57:11] \"GET / HTTP/1.1\" 200 -\n",
      "127.0.0.1 - - [25/Oct/2024 20:57:11] \"GET /favicon.ico HTTP/1.1\" 404 -\n",
      "127.0.0.1 - - [25/Oct/2024 20:57:37] \"POST /upload HTTP/1.1\" 200 -\n"
     ]
    },
    {
     "name": "stdout",
     "output_type": "stream",
     "text": [
      "Files have been organized.\n"
     ]
    }
   ],
   "source": [
    "# Start Flask app (will work for Jupyter Notebook environment)\n",
    "from werkzeug.serving import run_simple\n",
    "\n",
    "if __name__ == \"__main__\":\n",
    "    run_simple('localhost', 5000, app)\n"
   ]
  },
  {
   "cell_type": "code",
   "execution_count": null,
   "id": "07e97bc6-afc2-4452-8384-2c1987423522",
   "metadata": {},
   "outputs": [],
   "source": []
  }
 ],
 "metadata": {
  "kernelspec": {
   "display_name": "Python 3 (ipykernel)",
   "language": "python",
   "name": "python3"
  },
  "language_info": {
   "codemirror_mode": {
    "name": "ipython",
    "version": 3
   },
   "file_extension": ".py",
   "mimetype": "text/x-python",
   "name": "python",
   "nbconvert_exporter": "python",
   "pygments_lexer": "ipython3",
   "version": "3.12.3"
  }
 },
 "nbformat": 4,
 "nbformat_minor": 5
}
