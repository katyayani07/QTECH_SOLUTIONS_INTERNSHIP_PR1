{
 "cells": [
  {
   "cell_type": "code",
   "execution_count": 1,
   "id": "2fbad332-4477-462d-b82e-3774d7701405",
   "metadata": {},
   "outputs": [
    {
     "name": "stdin",
     "output_type": "stream",
     "text": [
      "Enter the number of terms:  7\n"
     ]
    },
    {
     "name": "stdout",
     "output_type": "stream",
     "text": [
      "Fibonacci sequence up to 7 terms: [0, 1, 1, 2, 3, 5, 8]\n"
     ]
    }
   ],
   "source": [
    "# Function to generate Fibonacci sequence up to n terms\n",
    "def generate_fibonacci(n):\n",
    "    # Initialize the first two Fibonacci numbers\n",
    "    fib_sequence = [0, 1]\n",
    "    \n",
    "    # Generate the Fibonacci sequence\n",
    "    for i in range(2, n):\n",
    "        next_fib = fib_sequence[-1] + fib_sequence[-2]  # Sum of the last two elements\n",
    "        fib_sequence.append(next_fib)\n",
    "    \n",
    "    return fib_sequence\n",
    "\n",
    "# Input: Number of terms\n",
    "n_terms = int(input(\"Enter the number of terms: \"))\n",
    "\n",
    "# Validate the input\n",
    "if n_terms <= 0:\n",
    "    print(\"Please enter a positive integer.\")\n",
    "elif n_terms == 1:\n",
    "    print(\"Fibonacci sequence up to 1 term: [0]\")\n",
    "else:\n",
    "    # Generate and display the Fibonacci sequence\n",
    "    fib_sequence = generate_fibonacci(n_terms)\n",
    "    print(f\"Fibonacci sequence up to {n_terms} terms: {fib_sequence}\")\n"
   ]
  },
  {
   "cell_type": "code",
   "execution_count": null,
   "id": "8ad90edb-5f73-41a5-92ed-502836148674",
   "metadata": {},
   "outputs": [],
   "source": []
  }
 ],
 "metadata": {
  "kernelspec": {
   "display_name": "Python 3 (ipykernel)",
   "language": "python",
   "name": "python3"
  },
  "language_info": {
   "codemirror_mode": {
    "name": "ipython",
    "version": 3
   },
   "file_extension": ".py",
   "mimetype": "text/x-python",
   "name": "python",
   "nbconvert_exporter": "python",
   "pygments_lexer": "ipython3",
   "version": "3.12.4"
  }
 },
 "nbformat": 4,
 "nbformat_minor": 5
}
